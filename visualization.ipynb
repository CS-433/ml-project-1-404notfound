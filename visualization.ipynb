{
 "cells": [
  {
   "cell_type": "markdown",
   "metadata": {},
   "source": [
    "# Generating visualizations\n"
   ]
  },
  {
   "cell_type": "code",
   "execution_count": 1,
   "metadata": {},
   "outputs": [],
   "source": [
    "import numpy as np\n",
    "import matplotlib.pyplot as plt\n",
    "from implementations import *\n",
    "from utils.helpers import *\n",
    "from utils.prediction import *\n",
    "from utils.preprocess import *\n",
    "from utils.cross_validation import *"
   ]
  },
  {
   "cell_type": "code",
   "execution_count": 2,
   "metadata": {},
   "outputs": [],
   "source": [
    "TRAIN_PATH = \"./data/train.csv\"\n",
    "TEST_PATH = \"./data/test.csv\""
   ]
  },
  {
   "cell_type": "markdown",
   "metadata": {},
   "source": [
    "## distribution plots of raw figs."
   ]
  },
  {
   "cell_type": "code",
   "execution_count": 3,
   "metadata": {},
   "outputs": [],
   "source": [
    "y_raw_tr, tx_raw_tr, ids_tr = load_csv_data(TRAIN_PATH)\n",
    "_, tx_raw_te, ids_te = load_csv_data(TEST_PATH)\n",
    "\n",
    "y_tr = process_y(y_raw_tr)\n",
    "tx_tr = tx_raw_tr\n",
    "tx_te = tx_raw_te\n",
    "\n",
    "tx_tr[:, [22, 29]] = tx_tr[:, [29, 22]]\n",
    "tx_te[:, [22, 29]] = tx_te[:, [29, 22]]\n",
    "tx_tr[tx_tr[:, 0] == -999, 0] = np.nan\n",
    "tx_te[tx_te[:, 0] == -999, 0] = np.nan\n",
    "\n",
    "median = np.nanmedian(np.hstack((tx_tr[:, 0], tx_te[:, 0])))\n",
    "tx_tr[np.isnan(tx_tr[:, 0]), 0] = median\n",
    "tx_te[np.isnan(tx_te[:, 0]), 0] = median\n",
    "\n",
    "\n",
    "# split datasets to different jet nums\n",
    "# and remove columns with missing values for each jet num\n",
    "tx_train_list, y_tr_list = split_jet_num(tx_tr, y_tr)\n",
    "\n",
    "# remove outliers\n",
    "means = []\n",
    "stds = []\n",
    "tx_train_list_clipped = []\n",
    "for i in range(3):\n",
    "    mean = np.mean(tx_train_list[i], axis=0)\n",
    "    std = np.std(tx_train_list[i], axis=0)\n",
    "    tx_train_list_clipped.append( np.clip(tx_train_list[i], mean - 2 * std, mean + 2 * std))\n",
    "    means.append(mean)\n",
    "    stds.append(std)\n",
    "\n"
   ]
  },
  {
   "cell_type": "code",
   "execution_count": 23,
   "metadata": {},
   "outputs": [
    {
     "name": "stdout",
     "output_type": "stream",
     "text": [
      "(99913, 18)\n",
      "(77544, 22)\n",
      "(72543, 29)\n"
     ]
    }
   ],
   "source": [
    "for i in range(3):\n",
    "    print(tx_train_list[i].shape)"
   ]
  },
  {
   "cell_type": "code",
   "execution_count": 24,
   "metadata": {},
   "outputs": [
    {
     "data": {
      "image/png": "[encoded data removed]",
      "text/plain": [
       "<Figure size 600x150 with 1 Axes>"
      ]
     },
     "metadata": {},
     "output_type": "display_data"
    }
   ],
   "source": [
    "plt.figure(figsize=(6,1.5)) \n",
    "flierprops = dict(marker = '.', color = 'green', markersize =1)\n",
    "plt.boxplot(tx_train_list[0][:, 2:4], vert=False, flierprops=flierprops, labels =['DER_mass_vis', 'DER_pt_h'])\n",
    "plt.title('Distribution of raw data in two features in jet_num 0')\n",
    "plt.show()"
   ]
  }
 ],
 "metadata": {
  "kernelspec": {
   "display_name": "Python 3.9.0 ('ada')",
   "language": "python",
   "name": "python3"
  },
  "language_info": {
   "codemirror_mode": {
    "name": "ipython",
    "version": 3
   },
   "file_extension": ".py",
   "mimetype": "text/x-python",
   "name": "python",
   "nbconvert_exporter": "python",
   "pygments_lexer": "ipython3",
   "version": "3.9.0"
  },
  "orig_nbformat": 4,
  "vscode": {
   "interpreter": {
    "hash": "17bb4027c8695f0b8ab886440b94e1e5f72b4fa221b7b75e5ec8df09a12276d1"
   }
  }
 },
 "nbformat": 4,
 "nbformat_minor": 2
}
