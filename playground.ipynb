{
 "cells": [
  {
   "cell_type": "code",
   "execution_count": 1,
   "metadata": {},
   "outputs": [
    {
     "data": {
      "text/html": [
       "<div>\n",
       "<style scoped>\n",
       "    .dataframe tbody tr th:only-of-type {\n",
       "        vertical-align: middle;\n",
       "    }\n",
       "\n",
       "    .dataframe tbody tr th {\n",
       "        vertical-align: top;\n",
       "    }\n",
       "\n",
       "    .dataframe thead th {\n",
       "        text-align: right;\n",
       "    }\n",
       "</style>\n",
       "<table border=\"1\" class=\"dataframe\">\n",
       "  <thead>\n",
       "    <tr style=\"text-align: right;\">\n",
       "      <th></th>\n",
       "      <th>Id</th>\n",
       "      <th>Prediction</th>\n",
       "      <th>DER_mass_MMC</th>\n",
       "      <th>DER_mass_transverse_met_lep</th>\n",
       "      <th>DER_mass_vis</th>\n",
       "      <th>DER_pt_h</th>\n",
       "      <th>DER_deltaeta_jet_jet</th>\n",
       "      <th>DER_mass_jet_jet</th>\n",
       "      <th>DER_prodeta_jet_jet</th>\n",
       "      <th>DER_deltar_tau_lep</th>\n",
       "      <th>...</th>\n",
       "      <th>PRI_met_phi</th>\n",
       "      <th>PRI_met_sumet</th>\n",
       "      <th>PRI_jet_num</th>\n",
       "      <th>PRI_jet_leading_pt</th>\n",
       "      <th>PRI_jet_leading_eta</th>\n",
       "      <th>PRI_jet_leading_phi</th>\n",
       "      <th>PRI_jet_subleading_pt</th>\n",
       "      <th>PRI_jet_subleading_eta</th>\n",
       "      <th>PRI_jet_subleading_phi</th>\n",
       "      <th>PRI_jet_all_pt</th>\n",
       "    </tr>\n",
       "  </thead>\n",
       "  <tbody>\n",
       "    <tr>\n",
       "      <th>0</th>\n",
       "      <td>100000</td>\n",
       "      <td>s</td>\n",
       "      <td>138.470</td>\n",
       "      <td>51.655</td>\n",
       "      <td>97.827</td>\n",
       "      <td>27.980</td>\n",
       "      <td>0.91</td>\n",
       "      <td>124.711</td>\n",
       "      <td>2.666</td>\n",
       "      <td>3.064</td>\n",
       "      <td>...</td>\n",
       "      <td>-0.277</td>\n",
       "      <td>258.733</td>\n",
       "      <td>2</td>\n",
       "      <td>67.435</td>\n",
       "      <td>2.150</td>\n",
       "      <td>0.444</td>\n",
       "      <td>46.062</td>\n",
       "      <td>1.24</td>\n",
       "      <td>-2.475</td>\n",
       "      <td>113.497</td>\n",
       "    </tr>\n",
       "    <tr>\n",
       "      <th>1</th>\n",
       "      <td>100001</td>\n",
       "      <td>b</td>\n",
       "      <td>160.937</td>\n",
       "      <td>68.768</td>\n",
       "      <td>103.235</td>\n",
       "      <td>48.146</td>\n",
       "      <td>-999.00</td>\n",
       "      <td>-999.000</td>\n",
       "      <td>-999.000</td>\n",
       "      <td>3.473</td>\n",
       "      <td>...</td>\n",
       "      <td>-1.916</td>\n",
       "      <td>164.546</td>\n",
       "      <td>1</td>\n",
       "      <td>46.226</td>\n",
       "      <td>0.725</td>\n",
       "      <td>1.158</td>\n",
       "      <td>-999.000</td>\n",
       "      <td>-999.00</td>\n",
       "      <td>-999.000</td>\n",
       "      <td>46.226</td>\n",
       "    </tr>\n",
       "    <tr>\n",
       "      <th>2</th>\n",
       "      <td>100002</td>\n",
       "      <td>b</td>\n",
       "      <td>-999.000</td>\n",
       "      <td>162.172</td>\n",
       "      <td>125.953</td>\n",
       "      <td>35.635</td>\n",
       "      <td>-999.00</td>\n",
       "      <td>-999.000</td>\n",
       "      <td>-999.000</td>\n",
       "      <td>3.148</td>\n",
       "      <td>...</td>\n",
       "      <td>-2.186</td>\n",
       "      <td>260.414</td>\n",
       "      <td>1</td>\n",
       "      <td>44.251</td>\n",
       "      <td>2.053</td>\n",
       "      <td>-2.028</td>\n",
       "      <td>-999.000</td>\n",
       "      <td>-999.00</td>\n",
       "      <td>-999.000</td>\n",
       "      <td>44.251</td>\n",
       "    </tr>\n",
       "    <tr>\n",
       "      <th>3</th>\n",
       "      <td>100003</td>\n",
       "      <td>b</td>\n",
       "      <td>143.905</td>\n",
       "      <td>81.417</td>\n",
       "      <td>80.943</td>\n",
       "      <td>0.414</td>\n",
       "      <td>-999.00</td>\n",
       "      <td>-999.000</td>\n",
       "      <td>-999.000</td>\n",
       "      <td>3.310</td>\n",
       "      <td>...</td>\n",
       "      <td>0.060</td>\n",
       "      <td>86.062</td>\n",
       "      <td>0</td>\n",
       "      <td>-999.000</td>\n",
       "      <td>-999.000</td>\n",
       "      <td>-999.000</td>\n",
       "      <td>-999.000</td>\n",
       "      <td>-999.00</td>\n",
       "      <td>-999.000</td>\n",
       "      <td>0.000</td>\n",
       "    </tr>\n",
       "    <tr>\n",
       "      <th>4</th>\n",
       "      <td>100004</td>\n",
       "      <td>b</td>\n",
       "      <td>175.864</td>\n",
       "      <td>16.915</td>\n",
       "      <td>134.805</td>\n",
       "      <td>16.405</td>\n",
       "      <td>-999.00</td>\n",
       "      <td>-999.000</td>\n",
       "      <td>-999.000</td>\n",
       "      <td>3.891</td>\n",
       "      <td>...</td>\n",
       "      <td>-0.871</td>\n",
       "      <td>53.131</td>\n",
       "      <td>0</td>\n",
       "      <td>-999.000</td>\n",
       "      <td>-999.000</td>\n",
       "      <td>-999.000</td>\n",
       "      <td>-999.000</td>\n",
       "      <td>-999.00</td>\n",
       "      <td>-999.000</td>\n",
       "      <td>0.000</td>\n",
       "    </tr>\n",
       "    <tr>\n",
       "      <th>...</th>\n",
       "      <td>...</td>\n",
       "      <td>...</td>\n",
       "      <td>...</td>\n",
       "      <td>...</td>\n",
       "      <td>...</td>\n",
       "      <td>...</td>\n",
       "      <td>...</td>\n",
       "      <td>...</td>\n",
       "      <td>...</td>\n",
       "      <td>...</td>\n",
       "      <td>...</td>\n",
       "      <td>...</td>\n",
       "      <td>...</td>\n",
       "      <td>...</td>\n",
       "      <td>...</td>\n",
       "      <td>...</td>\n",
       "      <td>...</td>\n",
       "      <td>...</td>\n",
       "      <td>...</td>\n",
       "      <td>...</td>\n",
       "      <td>...</td>\n",
       "    </tr>\n",
       "    <tr>\n",
       "      <th>249995</th>\n",
       "      <td>349995</td>\n",
       "      <td>b</td>\n",
       "      <td>-999.000</td>\n",
       "      <td>71.989</td>\n",
       "      <td>36.548</td>\n",
       "      <td>5.042</td>\n",
       "      <td>-999.00</td>\n",
       "      <td>-999.000</td>\n",
       "      <td>-999.000</td>\n",
       "      <td>1.392</td>\n",
       "      <td>...</td>\n",
       "      <td>2.859</td>\n",
       "      <td>144.665</td>\n",
       "      <td>0</td>\n",
       "      <td>-999.000</td>\n",
       "      <td>-999.000</td>\n",
       "      <td>-999.000</td>\n",
       "      <td>-999.000</td>\n",
       "      <td>-999.00</td>\n",
       "      <td>-999.000</td>\n",
       "      <td>0.000</td>\n",
       "    </tr>\n",
       "    <tr>\n",
       "      <th>249996</th>\n",
       "      <td>349996</td>\n",
       "      <td>b</td>\n",
       "      <td>-999.000</td>\n",
       "      <td>58.179</td>\n",
       "      <td>68.083</td>\n",
       "      <td>22.439</td>\n",
       "      <td>-999.00</td>\n",
       "      <td>-999.000</td>\n",
       "      <td>-999.000</td>\n",
       "      <td>2.585</td>\n",
       "      <td>...</td>\n",
       "      <td>-0.867</td>\n",
       "      <td>80.408</td>\n",
       "      <td>0</td>\n",
       "      <td>-999.000</td>\n",
       "      <td>-999.000</td>\n",
       "      <td>-999.000</td>\n",
       "      <td>-999.000</td>\n",
       "      <td>-999.00</td>\n",
       "      <td>-999.000</td>\n",
       "      <td>0.000</td>\n",
       "    </tr>\n",
       "    <tr>\n",
       "      <th>249997</th>\n",
       "      <td>349997</td>\n",
       "      <td>s</td>\n",
       "      <td>105.457</td>\n",
       "      <td>60.526</td>\n",
       "      <td>75.839</td>\n",
       "      <td>39.757</td>\n",
       "      <td>-999.00</td>\n",
       "      <td>-999.000</td>\n",
       "      <td>-999.000</td>\n",
       "      <td>2.390</td>\n",
       "      <td>...</td>\n",
       "      <td>-2.890</td>\n",
       "      <td>198.907</td>\n",
       "      <td>1</td>\n",
       "      <td>41.992</td>\n",
       "      <td>1.800</td>\n",
       "      <td>-0.166</td>\n",
       "      <td>-999.000</td>\n",
       "      <td>-999.00</td>\n",
       "      <td>-999.000</td>\n",
       "      <td>41.992</td>\n",
       "    </tr>\n",
       "    <tr>\n",
       "      <th>249998</th>\n",
       "      <td>349998</td>\n",
       "      <td>b</td>\n",
       "      <td>94.951</td>\n",
       "      <td>19.362</td>\n",
       "      <td>68.812</td>\n",
       "      <td>13.504</td>\n",
       "      <td>-999.00</td>\n",
       "      <td>-999.000</td>\n",
       "      <td>-999.000</td>\n",
       "      <td>3.365</td>\n",
       "      <td>...</td>\n",
       "      <td>0.811</td>\n",
       "      <td>112.718</td>\n",
       "      <td>0</td>\n",
       "      <td>-999.000</td>\n",
       "      <td>-999.000</td>\n",
       "      <td>-999.000</td>\n",
       "      <td>-999.000</td>\n",
       "      <td>-999.00</td>\n",
       "      <td>-999.000</td>\n",
       "      <td>0.000</td>\n",
       "    </tr>\n",
       "    <tr>\n",
       "      <th>249999</th>\n",
       "      <td>349999</td>\n",
       "      <td>b</td>\n",
       "      <td>-999.000</td>\n",
       "      <td>72.756</td>\n",
       "      <td>70.831</td>\n",
       "      <td>7.479</td>\n",
       "      <td>-999.00</td>\n",
       "      <td>-999.000</td>\n",
       "      <td>-999.000</td>\n",
       "      <td>2.025</td>\n",
       "      <td>...</td>\n",
       "      <td>-1.596</td>\n",
       "      <td>99.405</td>\n",
       "      <td>0</td>\n",
       "      <td>-999.000</td>\n",
       "      <td>-999.000</td>\n",
       "      <td>-999.000</td>\n",
       "      <td>-999.000</td>\n",
       "      <td>-999.00</td>\n",
       "      <td>-999.000</td>\n",
       "      <td>0.000</td>\n",
       "    </tr>\n",
       "  </tbody>\n",
       "</table>\n",
       "<p>250000 rows × 32 columns</p>\n",
       "</div>"
      ],
      "text/plain": [
       "            Id Prediction  DER_mass_MMC  DER_mass_transverse_met_lep  \\\n",
       "0       100000          s       138.470                       51.655   \n",
       "1       100001          b       160.937                       68.768   \n",
       "2       100002          b      -999.000                      162.172   \n",
       "3       100003          b       143.905                       81.417   \n",
       "4       100004          b       175.864                       16.915   \n",
       "...        ...        ...           ...                          ...   \n",
       "249995  349995          b      -999.000                       71.989   \n",
       "249996  349996          b      -999.000                       58.179   \n",
       "249997  349997          s       105.457                       60.526   \n",
       "249998  349998          b        94.951                       19.362   \n",
       "249999  349999          b      -999.000                       72.756   \n",
       "\n",
       "        DER_mass_vis  DER_pt_h  DER_deltaeta_jet_jet  DER_mass_jet_jet  \\\n",
       "0             97.827    27.980                  0.91           124.711   \n",
       "1            103.235    48.146               -999.00          -999.000   \n",
       "2            125.953    35.635               -999.00          -999.000   \n",
       "3             80.943     0.414               -999.00          -999.000   \n",
       "4            134.805    16.405               -999.00          -999.000   \n",
       "...              ...       ...                   ...               ...   \n",
       "249995        36.548     5.042               -999.00          -999.000   \n",
       "249996        68.083    22.439               -999.00          -999.000   \n",
       "249997        75.839    39.757               -999.00          -999.000   \n",
       "249998        68.812    13.504               -999.00          -999.000   \n",
       "249999        70.831     7.479               -999.00          -999.000   \n",
       "\n",
       "        DER_prodeta_jet_jet  DER_deltar_tau_lep  ...  PRI_met_phi  \\\n",
       "0                     2.666               3.064  ...       -0.277   \n",
       "1                  -999.000               3.473  ...       -1.916   \n",
       "2                  -999.000               3.148  ...       -2.186   \n",
       "3                  -999.000               3.310  ...        0.060   \n",
       "4                  -999.000               3.891  ...       -0.871   \n",
       "...                     ...                 ...  ...          ...   \n",
       "249995             -999.000               1.392  ...        2.859   \n",
       "249996             -999.000               2.585  ...       -0.867   \n",
       "249997             -999.000               2.390  ...       -2.890   \n",
       "249998             -999.000               3.365  ...        0.811   \n",
       "249999             -999.000               2.025  ...       -1.596   \n",
       "\n",
       "        PRI_met_sumet  PRI_jet_num  PRI_jet_leading_pt  PRI_jet_leading_eta  \\\n",
       "0             258.733            2              67.435                2.150   \n",
       "1             164.546            1              46.226                0.725   \n",
       "2             260.414            1              44.251                2.053   \n",
       "3              86.062            0            -999.000             -999.000   \n",
       "4              53.131            0            -999.000             -999.000   \n",
       "...               ...          ...                 ...                  ...   \n",
       "249995        144.665            0            -999.000             -999.000   \n",
       "249996         80.408            0            -999.000             -999.000   \n",
       "249997        198.907            1              41.992                1.800   \n",
       "249998        112.718            0            -999.000             -999.000   \n",
       "249999         99.405            0            -999.000             -999.000   \n",
       "\n",
       "        PRI_jet_leading_phi  PRI_jet_subleading_pt  PRI_jet_subleading_eta  \\\n",
       "0                     0.444                 46.062                    1.24   \n",
       "1                     1.158               -999.000                 -999.00   \n",
       "2                    -2.028               -999.000                 -999.00   \n",
       "3                  -999.000               -999.000                 -999.00   \n",
       "4                  -999.000               -999.000                 -999.00   \n",
       "...                     ...                    ...                     ...   \n",
       "249995             -999.000               -999.000                 -999.00   \n",
       "249996             -999.000               -999.000                 -999.00   \n",
       "249997               -0.166               -999.000                 -999.00   \n",
       "249998             -999.000               -999.000                 -999.00   \n",
       "249999             -999.000               -999.000                 -999.00   \n",
       "\n",
       "        PRI_jet_subleading_phi  PRI_jet_all_pt  \n",
       "0                       -2.475         113.497  \n",
       "1                     -999.000          46.226  \n",
       "2                     -999.000          44.251  \n",
       "3                     -999.000           0.000  \n",
       "4                     -999.000           0.000  \n",
       "...                        ...             ...  \n",
       "249995                -999.000           0.000  \n",
       "249996                -999.000           0.000  \n",
       "249997                -999.000          41.992  \n",
       "249998                -999.000           0.000  \n",
       "249999                -999.000           0.000  \n",
       "\n",
       "[250000 rows x 32 columns]"
      ]
     },
     "execution_count": 1,
     "metadata": {},
     "output_type": "execute_result"
    }
   ],
   "source": [
    "import pandas as pd\n",
    "\n",
    "df = pd.read_csv('./data/train.csv')\n",
    "df"
   ]
  },
  {
   "cell_type": "code",
   "execution_count": 6,
   "metadata": {},
   "outputs": [
    {
     "data": {
      "text/plain": [
       "1477"
      ]
     },
     "execution_count": 6,
     "metadata": {},
     "output_type": "execute_result"
    }
   ],
   "source": [
    "(df[df.PRI_jet_num==3].DER_mass_MMC==-999).sum()"
   ]
  },
  {
   "cell_type": "code",
   "execution_count": 2,
   "metadata": {},
   "outputs": [
    {
     "name": "stdout",
     "output_type": "stream",
     "text": [
      "Id 0\n",
      "Prediction 0\n",
      "DER_mass_MMC 38114\n",
      "DER_mass_transverse_met_lep 0\n",
      "DER_mass_vis 0\n",
      "DER_pt_h 0\n",
      "DER_deltaeta_jet_jet 177457\n",
      "DER_mass_jet_jet 177457\n",
      "DER_prodeta_jet_jet 177457\n",
      "DER_deltar_tau_lep 0\n",
      "DER_pt_tot 0\n",
      "DER_sum_pt 0\n",
      "DER_pt_ratio_lep_tau 0\n",
      "DER_met_phi_centrality 0\n",
      "DER_lep_eta_centrality 177457\n",
      "PRI_tau_pt 0\n",
      "PRI_tau_eta 0\n",
      "PRI_tau_phi 0\n",
      "PRI_lep_pt 0\n",
      "PRI_lep_eta 0\n",
      "PRI_lep_phi 0\n",
      "PRI_met 0\n",
      "PRI_met_phi 0\n",
      "PRI_met_sumet 0\n",
      "PRI_jet_num 0\n",
      "PRI_jet_leading_pt 99913\n",
      "PRI_jet_leading_eta 99913\n",
      "PRI_jet_leading_phi 99913\n",
      "PRI_jet_subleading_pt 177457\n",
      "PRI_jet_subleading_eta 177457\n",
      "PRI_jet_subleading_phi 177457\n",
      "PRI_jet_all_pt 0\n"
     ]
    }
   ],
   "source": [
    "for column in df:\n",
    "    print(column, (df[column]==-999).sum())"
   ]
  },
  {
   "cell_type": "code",
   "execution_count": 3,
   "metadata": {},
   "outputs": [
    {
     "name": "stdout",
     "output_type": "stream",
     "text": [
      "85667\n"
     ]
    }
   ],
   "source": [
    "print((df['Prediction']=='s').sum())"
   ]
  },
  {
   "cell_type": "code",
   "execution_count": 4,
   "metadata": {},
   "outputs": [
    {
     "data": {
      "text/plain": [
       "0    99913\n",
       "1    77544\n",
       "2    50379\n",
       "3    22164\n",
       "Name: PRI_jet_num, dtype: int64"
      ]
     },
     "execution_count": 4,
     "metadata": {},
     "output_type": "execute_result"
    }
   ],
   "source": [
    "df.PRI_jet_num.value_counts()"
   ]
  },
  {
   "cell_type": "code",
   "execution_count": 5,
   "metadata": {},
   "outputs": [
    {
     "name": "stdout",
     "output_type": "stream",
     "text": [
      "[ 1. -1. -1. ...  1. -1. -1.] [[ 138.47    51.655   97.827 ...    1.24    -2.475  113.497]\n",
      " [ 160.937   68.768  103.235 ... -999.    -999.      46.226]\n",
      " [-999.     162.172  125.953 ... -999.    -999.      44.251]\n",
      " ...\n",
      " [ 105.457   60.526   75.839 ... -999.    -999.      41.992]\n",
      " [  94.951   19.362   68.812 ... -999.    -999.       0.   ]\n",
      " [-999.      72.756   70.831 ... -999.    -999.       0.   ]] [100000 100001 100002 ... 349997 349998 349999]\n"
     ]
    }
   ],
   "source": [
    "from helpers import *\n",
    "PATH = './data/train.csv'\n",
    "y_raw, tx_raw, ids_raw = load_csv_data(PATH)\n",
    "print(y_raw, tx_raw, ids_raw)"
   ]
  },
  {
   "cell_type": "code",
   "execution_count": 6,
   "metadata": {},
   "outputs": [
    {
     "name": "stdout",
     "output_type": "stream",
     "text": [
      "(250000,)\n",
      "(250000, 30)\n"
     ]
    }
   ],
   "source": [
    "print(y_raw.shape)\n",
    "print(tx_raw.shape)"
   ]
  },
  {
   "cell_type": "code",
   "execution_count": 7,
   "metadata": {},
   "outputs": [
    {
     "name": "stdout",
     "output_type": "stream",
     "text": [
      "1433657413944.2444 0.018716709833493845 76597726133398.3\n"
     ]
    }
   ],
   "source": [
    "lambda_max = np.linalg.eigvals(tx_raw.T @ tx_raw).max()\n",
    "lambda_min = np.linalg.eigvals(tx_raw.T @ tx_raw).min()\n",
    "print(lambda_max, lambda_min, lambda_max/lambda_min)"
   ]
  },
  {
   "cell_type": "code",
   "execution_count": 8,
   "metadata": {},
   "outputs": [],
   "source": [
    "y_raw[y_raw==-1] = 0\n",
    "y_raw = y_raw.reshape(-1, 1)\n",
    "y = y_raw"
   ]
  },
  {
   "cell_type": "code",
   "execution_count": 9,
   "metadata": {},
   "outputs": [
    {
     "data": {
      "text/plain": [
       "(250000, 18)"
      ]
     },
     "execution_count": 9,
     "metadata": {},
     "output_type": "execute_result"
    }
   ],
   "source": [
    "col_mask = np.zeros(tx_raw.shape[1], dtype=bool)\n",
    "col_mask[[1, 2, 3, 7, 8, 9, 10, 11, 13, 14, 15, 16, 17, 18, 19, 20, 21, 22]] = True\n",
    "tx_cleaned = tx_raw[:, col_mask]\n",
    "tx_cleaned.shape"
   ]
  },
  {
   "cell_type": "code",
   "execution_count": 10,
   "metadata": {},
   "outputs": [
    {
     "name": "stdout",
     "output_type": "stream",
     "text": [
      "28883717934.663532 30427.822613370296 949253.526999718\n"
     ]
    }
   ],
   "source": [
    "lambda_max = np.linalg.eigvals(tx_cleaned.T @ tx_cleaned).max()\n",
    "lambda_min = np.linalg.eigvals(tx_cleaned.T @ tx_cleaned).min()\n",
    "print(lambda_max, lambda_min, lambda_max/lambda_min)"
   ]
  },
  {
   "cell_type": "code",
   "execution_count": 11,
   "metadata": {},
   "outputs": [],
   "source": [
    "from implementations import *\n",
    "\n",
    "\n",
    "def predict_linear(tx, w, threshold=0.5):\n",
    "    \"\"\"Predict values from linear regression. If probability > threshold, predict 1.\n",
    "    Args:\n",
    "        tx: numpy array of shape (N, D), D is the number of features.\n",
    "        w: optimal weights, numpy array of shape(D, 1), D is the number of features.\n",
    "        threshold: scalar, default = 0.5, threshold for decision.\n",
    "\n",
    "    Returns:    \n",
    "        y_pred: numpy array of shape (N, 1) with labels 1 or 0, N is the number of samples.\n",
    "    \"\"\"\n",
    "\n",
    "    y_pred = tx @ w\n",
    "    y_pred[y_pred>=threshold] = 1\n",
    "    y_pred[y_pred<threshold] = 0\n",
    "    \n",
    "    return y_pred\n",
    "\n",
    "\n",
    "def predict_logistic(tx, w, threshold=0.5):\n",
    "    \"\"\"Predict values from logistic regression. If probability > threshold, predict 1.\n",
    "    Args:\n",
    "        tx: numpy array of shape (N, D), D is the number of features.\n",
    "        w: optimal weights, numpy array of shape(D, 1), D is the number of features.\n",
    "        threshold: scalar, default = 0.5, threshold for decision.\n",
    "\n",
    "    Returns:    \n",
    "        y_pred: numpy array of shape (N, 1) with labels 1 or 0, N is the number of samples.\n",
    "    \"\"\"\n",
    "\n",
    "    y_pred = sigmoid(tx @ w)\n",
    "    y_pred[y_pred>=threshold] = 1\n",
    "    y_pred[y_pred<threshold] = 0\n",
    "\n",
    "    return y_pred\n",
    "\n",
    "\n",
    "def compute_metrics(y, y_pred):\n",
    "    \"\"\"Compute prediction accuracy, f1-score, precision, recall.\n",
    "    Args:\n",
    "        y: numpy array of shape (N, 1), the true label.\n",
    "        y_pred: numpy array of shape (N, 0), the prediction.\n",
    "\n",
    "    Returns:    \n",
    "        accuracy: the scalar of accuracy.\n",
    "        f1_score: the scalar of f1_score.\n",
    "        precision: the scalar of precision.\n",
    "        recall: the scalar of recall.\n",
    "    \"\"\"\n",
    "\n",
    "    accuracy = (y==y_pred).sum() / y.shape[0]\n",
    "    precision = ((y==y_pred) & (y==1)).sum() / y_pred.sum()\n",
    "    recall = ((y==y_pred) & (y==1)).sum() / y.sum()\n",
    "    f1_score = 2 / (1 / precision + 1 / recall)\n",
    "    return accuracy, precision, recall, f1_score"
   ]
  },
  {
   "cell_type": "code",
   "execution_count": 12,
   "metadata": {},
   "outputs": [],
   "source": [
    "def standardization(tx):\n",
    "    \"\"\"Standardize the input by (X-mu) / sigma\n",
    "    Args:\n",
    "        tx: numpy array of shape (N, D), D is the number of features.\n",
    "\n",
    "    Returns:    \n",
    "        tx_std: standardized numpy array of shape (N, D), D is the number of features.\n",
    "    \"\"\"\n",
    "\n",
    "    eps = 1e-9  # avoid being divided by zero\n",
    "    return (tx - np.mean(tx, axis=0)) / (eps + np.std(tx, axis=0))"
   ]
  },
  {
   "cell_type": "code",
   "execution_count": 13,
   "metadata": {},
   "outputs": [],
   "source": [
    "GAMMA = 0.1\n",
    "LAMBDA = 1e-4\n",
    "MAX_ITER = 500\n",
    "THRESHOLD = 85667 / 250000"
   ]
  },
  {
   "cell_type": "code",
   "execution_count": 65,
   "metadata": {},
   "outputs": [],
   "source": [
    "tx = standardization(tx_cleaned)\n",
    "y = y_raw\n",
    "initial_w = np.random.rand(tx.shape[1], 1)"
   ]
  },
  {
   "cell_type": "code",
   "execution_count": 15,
   "metadata": {},
   "outputs": [
    {
     "name": "stdout",
     "output_type": "stream",
     "text": [
      "[[-0.5844448 ]\n",
      " [-0.68071164]\n",
      " [ 0.15178409]\n",
      " [ 0.72320631]\n",
      " [-0.11512168]\n",
      " [-0.1022881 ]\n",
      " [-0.34231559]\n",
      " [ 0.26950165]\n",
      " [ 0.64330356]\n",
      " [-0.00254386]\n",
      " [-0.00218081]\n",
      " [ 0.60452666]\n",
      " [-0.00136021]\n",
      " [ 0.00577473]\n",
      " [ 0.19869827]\n",
      " [ 0.00165985]\n",
      " [-0.1770718 ]\n",
      " [ 0.13361598]] 0.5830135641787665\n"
     ]
    }
   ],
   "source": [
    "w, loss = reg_logistic_regression(y, tx, LAMBDA, initial_w, 1000, 0.1)\n",
    "print(w, loss)"
   ]
  },
  {
   "cell_type": "code",
   "execution_count": 16,
   "metadata": {},
   "outputs": [
    {
     "name": "stdout",
     "output_type": "stream",
     "text": [
      "0.710308 0.5517594459816474 0.8240162489640118 0.6609489478242551\n"
     ]
    }
   ],
   "source": [
    "y_pred = predict_logistic(tx, w)\n",
    "accuracy, precision, recall, f1_score = compute_metrics(y, y_pred)\n",
    "print(accuracy, precision, recall, f1_score)"
   ]
  },
  {
   "cell_type": "code",
   "execution_count": 17,
   "metadata": {},
   "outputs": [
    {
     "name": "stdout",
     "output_type": "stream",
     "text": [
      "0.658688 0.580522565320665 0.014264535935657838 0.027844870801622384\n"
     ]
    }
   ],
   "source": [
    "w, loss = ridge_regression(y, tx, LAMBDA)\n",
    "y_pred = predict_linear(tx, w)\n",
    "accuracy, precision, recall, f1_score = compute_metrics(y, y_pred)\n",
    "print(accuracy, precision, recall, f1_score)"
   ]
  },
  {
   "cell_type": "markdown",
   "metadata": {},
   "source": [
    "正类数量少, recall 低说明实际的正类没有多少被预测到, model 没怎么预测正类, 大部分全部预测负类."
   ]
  },
  {
   "cell_type": "markdown",
   "metadata": {},
   "source": [
    "TODO:\n",
    "\n",
    "- ~~感觉 loss 好大...~~\n",
    "- ~~adaptive learning rate and adam~~\n",
    "- ~~针对不同的 pri_jet_num 分别学习不同的模型~~\n",
    "- ~~polynomial~~\n",
    "- ~~上传 test 的 csv 文件~~\n",
    "- 标准化的均值怎么计算"
   ]
  },
  {
   "cell_type": "code",
   "execution_count": 18,
   "metadata": {},
   "outputs": [],
   "source": [
    "import matplotlib.pyplot as plt"
   ]
  },
  {
   "cell_type": "code",
   "execution_count": 19,
   "metadata": {},
   "outputs": [],
   "source": [
    "# 首先绘制 loss 曲线吧\n",
    "\n",
    "def reg_logistic_regression_plot(y, tx, lambda_, initial_w, max_iters, gamma, optimizer='gd'):\n",
    "    \"\"\"Regularized logistic regression using gradient descent\n",
    "    or SGD (y ∈ {0, 1}, with regularization term λ|w|2)\n",
    "\n",
    "    Args:\n",
    "        y: numpy array of shape=(N, 1)\n",
    "        tx: numpy array of shape=(N, D)\n",
    "        lambda_: a scalar denoting the regularization term\n",
    "        initial_w: numpy array of shape=(D, 1). The initial guess (or the initialization) for the model parameters\n",
    "        max_iters: a scalar denoting the total number of iterations of SGD\n",
    "        gamma: a scalar denoting the stepsize\n",
    "\n",
    "    Returns:\n",
    "        w: the last weight vector of shape (D, 1)\n",
    "        loss: the corresponding mse loss\n",
    "    \"\"\"\n",
    "\n",
    "    # Define parameters to store w and loss\n",
    "    w = initial_w\n",
    "    loss = compute_ce(y, tx, w)\n",
    "    ws = [initial_w]\n",
    "    losses = [loss]\n",
    "    grad_square_sum = 0\n",
    "    beta1 = 0.9\n",
    "    beta2 = 0.999\n",
    "    eps = 1e-8\n",
    "    m = 0\n",
    "    v = 0\n",
    "\n",
    "    for n_iter in range(max_iters):\n",
    "        for y_batch, tx_batch in batch_iter(\n",
    "            y, tx, batch_size=y.shape[0], num_batches=1\n",
    "        ):\n",
    "            # compute gradient\n",
    "            grad = logistic_reg_gradient(y_batch, tx_batch, w)\n",
    "\n",
    "            if optimizer == 'gd':\n",
    "                # update w by gradient\n",
    "                w = w - gamma * (grad + 2 * lambda_ * w)\n",
    "            elif optimizer == 'ada':\n",
    "                grad_square_sum += grad**2\n",
    "                adagrad = grad / np.sqrt(grad_square_sum)\n",
    "                w = w - gamma * (adagrad + 2 * lambda_ * w)\n",
    "            elif optimizer == 'adam':\n",
    "                m = beta1*m + (1-beta1)*grad\n",
    "                v = beta2*v + (1-beta2)*grad**2\n",
    "                m_db = m / (1-beta1**(n_iter+1))\n",
    "                v_db = v / (1-beta2**(n_iter+1))\n",
    "                adam_grad = m_db / (np.sqrt(v_db) + eps)\n",
    "                w = w - gamma * (adam_grad + 2 * lambda_ * w)\n",
    "\n",
    "            # compute loss\n",
    "            loss = compute_ce(y, tx, w)\n",
    "\n",
    "            # store w and loss\n",
    "            ws.append(w)\n",
    "            losses.append(loss)\n",
    "\n",
    "    index = np.argmin(losses)\n",
    "    plt.plot(np.arange(max_iters+1), losses, label='lr')\n",
    "    plt.legend()\n",
    "    plt.xlabel('iters')\n",
    "    plt.ylabel('loss')\n",
    "    plt.title('training loss')\n",
    "    \n",
    "    print(\"The best iteration is {}.\".format(index))\n",
    "    return ws[index], losses[index]"
   ]
  },
  {
   "cell_type": "code",
   "execution_count": 20,
   "metadata": {},
   "outputs": [
    {
     "name": "stdout",
     "output_type": "stream",
     "text": [
      "The best iteration is 1000.\n"
     ]
    },
    {
     "data": {
      "image/png": "[encoded data removed]",
      "text/plain": [
       "<Figure size 640x480 with 1 Axes>"
      ]
     },
     "metadata": {},
     "output_type": "display_data"
    }
   ],
   "source": [
    "w, loss = reg_logistic_regression_plot(y, tx, LAMBDA, initial_w, 1000, 0.1)"
   ]
  },
  {
   "cell_type": "code",
   "execution_count": 21,
   "metadata": {},
   "outputs": [
    {
     "name": "stdout",
     "output_type": "stream",
     "text": [
      "0.710308 0.5517594459816474 0.8240162489640118 0.6609489478242551\n"
     ]
    }
   ],
   "source": [
    "y_pred = predict_logistic(tx, w)\n",
    "accuracy, precision, recall, f1_score = compute_metrics(y, y_pred)\n",
    "print(accuracy, precision, recall, f1_score)"
   ]
  },
  {
   "cell_type": "code",
   "execution_count": 22,
   "metadata": {},
   "outputs": [
    {
     "name": "stdout",
     "output_type": "stream",
     "text": [
      "The best iteration is 1000.\n"
     ]
    },
    {
     "data": {
      "image/png": "[encoded data removed]",
      "text/plain": [
       "<Figure size 640x480 with 1 Axes>"
      ]
     },
     "metadata": {},
     "output_type": "display_data"
    }
   ],
   "source": [
    "w, loss = reg_logistic_regression_plot(y, tx, LAMBDA, initial_w, 1000, 0.1, optimizer='ada')"
   ]
  },
  {
   "cell_type": "code",
   "execution_count": 23,
   "metadata": {},
   "outputs": [
    {
     "name": "stdout",
     "output_type": "stream",
     "text": [
      "0.709672 0.5508309313112322 0.8275998926074217 0.6614298108947747\n"
     ]
    }
   ],
   "source": [
    "y_pred = predict_logistic(tx, w)\n",
    "accuracy, precision, recall, f1_score = compute_metrics(y, y_pred)\n",
    "print(accuracy, precision, recall, f1_score)"
   ]
  },
  {
   "cell_type": "code",
   "execution_count": 24,
   "metadata": {},
   "outputs": [
    {
     "name": "stdout",
     "output_type": "stream",
     "text": [
      "The best iteration is 163.\n"
     ]
    },
    {
     "data": {
      "image/png": "[encoded data removed]",
      "text/plain": [
       "<Figure size 640x480 with 1 Axes>"
      ]
     },
     "metadata": {},
     "output_type": "display_data"
    }
   ],
   "source": [
    "w, loss = reg_logistic_regression_plot(y, tx, LAMBDA, initial_w, 1000, 0.1, optimizer='adam')"
   ]
  },
  {
   "cell_type": "code",
   "execution_count": 25,
   "metadata": {},
   "outputs": [
    {
     "name": "stdout",
     "output_type": "stream",
     "text": [
      "0.709388 0.5505037177317955 0.8279500857973315 0.6613055862457985\n"
     ]
    }
   ],
   "source": [
    "y_pred = predict_logistic(tx, w)\n",
    "accuracy, precision, recall, f1_score = compute_metrics(y, y_pred)\n",
    "print(accuracy, precision, recall, f1_score)"
   ]
  },
  {
   "cell_type": "code",
   "execution_count": 26,
   "metadata": {},
   "outputs": [],
   "source": [
    "# 针对不同的 pri_jet_num 学习不同模型.\n",
    "\n",
    "def jet_num_split(tx, y):\n",
    "    \"\"\"Split tx into three subsets with different pri_jet_num.\n",
    "\n",
    "    Args:\n",
    "        tx: numpy array of shape=(N, D)\n",
    "        y: numpy array of shape=(N, 1)\n",
    "\n",
    "    Returns:\n",
    "        tx_list, y_list: two list of numpy arrays related to different pri_jet_num\n",
    "    \"\"\"\n",
    "\n",
    "    tx_list = [tx[tx[:, -1] == i, :-1] for i in range(4)]\n",
    "    y_list = [y[tx[:, -1] == i] for i in range(4)]\n",
    "\n",
    "    return tx_list, y_list"
   ]
  },
  {
   "cell_type": "code",
   "execution_count": 27,
   "metadata": {},
   "outputs": [],
   "source": [
    "tx_list, y_list = jet_num_split(tx_cleaned, y)\n",
    "tx_list = [standardization(i) for i in tx_list]"
   ]
  },
  {
   "cell_type": "code",
   "execution_count": 28,
   "metadata": {},
   "outputs": [
    {
     "name": "stdout",
     "output_type": "stream",
     "text": [
      "The best iteration is 1000.\n",
      "The best iteration is 1000.\n",
      "The best iteration is 1000.\n",
      "The best iteration is 1000.\n"
     ]
    },
    {
     "data": {
      "image/png": "[encoded data removed]",
      "text/plain": [
       "<Figure size 640x480 with 1 Axes>"
      ]
     },
     "metadata": {},
     "output_type": "display_data"
    }
   ],
   "source": [
    "initial_w_list = np.random.rand(tx.shape[1]-1, 4)\n",
    "w_list = [0, 0, 0, 0]\n",
    "loss_list = [0, 0, 0, 0]\n",
    "y_pred, y_true = np.empty((0, 1)), np.empty((0, 1))\n",
    "for i in range(4):\n",
    "    w_list[i], loss_list[i] = reg_logistic_regression_plot(y_list[i], tx_list[i], LAMBDA, initial_w_list[:, i].reshape(-1, 1), 1000, 0.1)\n",
    "    y_pred = np.vstack((y_pred, predict_logistic(tx_list[i], w_list[i])))\n",
    "    y_true = np.vstack((y_true, y_list[i]))"
   ]
  },
  {
   "cell_type": "code",
   "execution_count": 29,
   "metadata": {},
   "outputs": [
    {
     "name": "stdout",
     "output_type": "stream",
     "text": [
      "0.696292 0.5377215268310819 0.8103703876638613 0.6464746171503601\n"
     ]
    }
   ],
   "source": [
    "accuracy, precision, recall, f1_score = compute_metrics(y_true, y_pred)\n",
    "print(accuracy, precision, recall, f1_score)"
   ]
  },
  {
   "cell_type": "code",
   "execution_count": 30,
   "metadata": {},
   "outputs": [],
   "source": [
    "# 特征增强\n",
    "\n",
    "def build_poly(tx, degree):\n",
    "    \"\"\"polynomial basis functions for input data x, for j=0 up to j=degree.\n",
    "    \n",
    "    Args:\n",
    "        tx: numpy array of shape (N, D), N is the number of samples.\n",
    "        degree: integer.\n",
    "        \n",
    "    Returns:\n",
    "        poly: numpy array of shape (N, degree*D)\n",
    "    \"\"\"\n",
    "    \n",
    "    N, D = tx.shape\n",
    "    poly = np.empty((N, 0))\n",
    "    for i in range(degree):\n",
    "        poly = np.hstack((poly, tx**(i+1)))\n",
    "    \n",
    "    return poly"
   ]
  },
  {
   "cell_type": "code",
   "execution_count": 66,
   "metadata": {},
   "outputs": [
    {
     "name": "stdout",
     "output_type": "stream",
     "text": [
      "The best iteration is 784.\n",
      "The best iteration is 469.\n",
      "The best iteration is 982.\n",
      "The best iteration is 382.\n"
     ]
    },
    {
     "data": {
      "image/png": "[encoded data removed]",
      "text/plain": [
       "<Figure size 640x480 with 1 Axes>"
      ]
     },
     "metadata": {},
     "output_type": "display_data"
    }
   ],
   "source": [
    "degree = 3\n",
    "LAMBDA = 1e-3\n",
    "initial_w_list = np.random.rand((tx.shape[1]-1)*degree, 4)\n",
    "w_list = [0, 0, 0, 0]\n",
    "loss_list = [0, 0, 0, 0]\n",
    "y_pred, y_true = np.empty((0, 1)), np.empty((0, 1))\n",
    "for i in range(4):\n",
    "    tx_i = build_poly(tx_list[i], degree)\n",
    "    w_list[i], loss_list[i] = reg_logistic_regression_plot(y_list[i], tx_i, LAMBDA, initial_w_list[:, i].reshape(-1, 1), 1000, 0.1, optimizer='adam')\n",
    "    y_pred = np.vstack((y_pred, predict_logistic(tx_i, w_list[i])))\n",
    "    y_true = np.vstack((y_true, y_list[i]))"
   ]
  },
  {
   "cell_type": "code",
   "execution_count": 32,
   "metadata": {},
   "outputs": [
    {
     "name": "stdout",
     "output_type": "stream",
     "text": [
      "0.797788 0.732580012717253 0.6455344531733339 0.6863082125903632\n"
     ]
    }
   ],
   "source": [
    "accuracy, precision, recall, f1_score = compute_metrics(y_true, y_pred)\n",
    "print(accuracy, precision, recall, f1_score)"
   ]
  },
  {
   "cell_type": "code",
   "execution_count": 54,
   "metadata": {},
   "outputs": [],
   "source": [
    "# 提交 csv\n",
    "\n",
    "_, tx_raw_test, ids_raw_test = load_csv_data('./data/test.csv')"
   ]
  },
  {
   "cell_type": "code",
   "execution_count": 55,
   "metadata": {},
   "outputs": [
    {
     "name": "stdout",
     "output_type": "stream",
     "text": [
      "(18,) (18,)\n"
     ]
    }
   ],
   "source": [
    "tx_test_cleaned = tx_raw_test[:, col_mask]\n",
    "y_pred = np.empty((0, 1))\n",
    "tx_all = np.vstack((tx_cleaned, tx_test_cleaned))\n",
    "mean = np.mean(tx_all, axis=0)\n",
    "std = np.std(tx_all, axis=0)\n",
    "print(mean.shape, std.shape)"
   ]
  },
  {
   "cell_type": "code",
   "execution_count": 67,
   "metadata": {},
   "outputs": [],
   "source": [
    "for i in range(len(tx_test_cleaned)):\n",
    "    w = w_list[int(tx_test_cleaned[i, -1])]\n",
    "    tx = ((tx_test_cleaned[i, :-1]-mean[:-1])/(std[:-1]+1e-9)).reshape(1, -1)\n",
    "    tx = build_poly(tx, degree)\n",
    "    y_pred = np.vstack((y_pred, predict_logistic(tx, w)))"
   ]
  },
  {
   "cell_type": "code",
   "execution_count": 68,
   "metadata": {},
   "outputs": [
    {
     "data": {
      "text/plain": [
       "array([[-1],\n",
       "       [-1],\n",
       "       [-1],\n",
       "       ...,\n",
       "       [ 1],\n",
       "       [ 1],\n",
       "       [-1]])"
      ]
     },
     "execution_count": 68,
     "metadata": {},
     "output_type": "execute_result"
    }
   ],
   "source": [
    "y_pred[y_pred==0] = -1\n",
    "y_pred = y_pred.astype(int)\n",
    "y_pred"
   ]
  },
  {
   "cell_type": "code",
   "execution_count": 61,
   "metadata": {},
   "outputs": [],
   "source": [
    "create_csv_submission(ids_raw_test, y_pred, 'submission_adam_alltrain.csv')"
   ]
  }
 ],
 "metadata": {
  "kernelspec": {
   "display_name": "Python 3.7.13 ('py37')",
   "language": "python",
   "name": "python3"
  },
  "language_info": {
   "codemirror_mode": {
    "name": "ipython",
    "version": 3
   },
   "file_extension": ".py",
   "mimetype": "text/x-python",
   "name": "python",
   "nbconvert_exporter": "python",
   "pygments_lexer": "ipython3",
   "version": "3.7.13"
  },
  "orig_nbformat": 4,
  "vscode": {
   "interpreter": {
    "hash": "578317ea115a054ac4bccdfa892faa859649678dbaf6df54b2b98fb2846a81cd"
   }
  }
 },
 "nbformat": 4,
 "nbformat_minor": 2
}
